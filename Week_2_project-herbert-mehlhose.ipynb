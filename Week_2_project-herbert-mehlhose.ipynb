{
 "cells": [
  {
   "cell_type": "markdown",
   "metadata": {},
   "source": [
    "# Project 2:  Holiday weather\n",
    "\n",
    "by Rob Griffiths, 11 September 2015, updated 11 April 2017\n",
    "\n",
    "This is the project notebook for Week 2 of The Open University's [_Learn to code for Data Analysis_](http://futurelearn.com/courses/learn-to-code) course.\n",
    "\n",
    "Project changed by Herbert Mehlhose, 23.05.2017\n",
    "\n",
    "City of choice: ***Moscow***"
   ]
  },
  {
   "cell_type": "code",
   "execution_count": 3,
   "metadata": {
    "collapsed": true
   },
   "outputs": [],
   "source": [
    "import warnings\n",
    "warnings.simplefilter('ignore', FutureWarning)\n",
    "\n",
    "from pandas import *\n",
    "citydf = read_csv('Moscow_SVO_2014.csv', skipinitialspace=True)"
   ]
  },
  {
   "cell_type": "markdown",
   "metadata": {},
   "source": [
    "## Cleaning the data\n",
    "First we need to clean up the data. I'm not going to make use of `'WindDirDegrees'` in my analysis, but you might in yours so we'll rename `'WindDirDegrees< br />'` to `'WindDirDegrees'`. "
   ]
  },
  {
   "cell_type": "code",
   "execution_count": 11,
   "metadata": {
    "collapsed": false
   },
   "outputs": [
    {
     "data": {
      "text/html": [
       "<div>\n",
       "<table border=\"1\" class=\"dataframe\">\n",
       "  <thead>\n",
       "    <tr style=\"text-align: right;\">\n",
       "      <th></th>\n",
       "      <th>Date</th>\n",
       "      <th>Max TemperatureC</th>\n",
       "      <th>Mean TemperatureC</th>\n",
       "      <th>Min TemperatureC</th>\n",
       "      <th>Dew PointC</th>\n",
       "      <th>MeanDew PointC</th>\n",
       "      <th>Min DewpointC</th>\n",
       "      <th>Max Humidity</th>\n",
       "      <th>Mean Humidity</th>\n",
       "      <th>Min Humidity</th>\n",
       "      <th>...</th>\n",
       "      <th>Max VisibilityKm</th>\n",
       "      <th>Mean VisibilityKm</th>\n",
       "      <th>Min VisibilitykM</th>\n",
       "      <th>Max Wind SpeedKm/h</th>\n",
       "      <th>Mean Wind SpeedKm/h</th>\n",
       "      <th>Max Gust SpeedKm/h</th>\n",
       "      <th>Precipitationmm</th>\n",
       "      <th>CloudCover</th>\n",
       "      <th>Events</th>\n",
       "      <th>WindDirDegrees</th>\n",
       "    </tr>\n",
       "  </thead>\n",
       "  <tbody>\n",
       "    <tr>\n",
       "      <th>360</th>\n",
       "      <td>2014-12-27</td>\n",
       "      <td>-7</td>\n",
       "      <td>-9</td>\n",
       "      <td>-13</td>\n",
       "      <td>-8</td>\n",
       "      <td>-9</td>\n",
       "      <td>-14</td>\n",
       "      <td>93</td>\n",
       "      <td>91</td>\n",
       "      <td>80</td>\n",
       "      <td>...</td>\n",
       "      <td>10</td>\n",
       "      <td>10</td>\n",
       "      <td>8</td>\n",
       "      <td>26</td>\n",
       "      <td>19</td>\n",
       "      <td>43</td>\n",
       "      <td>0</td>\n",
       "      <td>7</td>\n",
       "      <td>NaN</td>\n",
       "      <td>224&lt;br /&gt;</td>\n",
       "    </tr>\n",
       "    <tr>\n",
       "      <th>361</th>\n",
       "      <td>2014-12-28</td>\n",
       "      <td>-10</td>\n",
       "      <td>-12</td>\n",
       "      <td>-15</td>\n",
       "      <td>-11</td>\n",
       "      <td>-13</td>\n",
       "      <td>-16</td>\n",
       "      <td>93</td>\n",
       "      <td>92</td>\n",
       "      <td>85</td>\n",
       "      <td>...</td>\n",
       "      <td>10</td>\n",
       "      <td>7</td>\n",
       "      <td>0</td>\n",
       "      <td>18</td>\n",
       "      <td>8</td>\n",
       "      <td>NaN</td>\n",
       "      <td>0</td>\n",
       "      <td>7</td>\n",
       "      <td>Fog-Snow</td>\n",
       "      <td>36&lt;br /&gt;</td>\n",
       "    </tr>\n",
       "    <tr>\n",
       "      <th>362</th>\n",
       "      <td>2014-12-29</td>\n",
       "      <td>-12</td>\n",
       "      <td>-14</td>\n",
       "      <td>-17</td>\n",
       "      <td>-13</td>\n",
       "      <td>-17</td>\n",
       "      <td>-19</td>\n",
       "      <td>92</td>\n",
       "      <td>87</td>\n",
       "      <td>78</td>\n",
       "      <td>...</td>\n",
       "      <td>10</td>\n",
       "      <td>10</td>\n",
       "      <td>9</td>\n",
       "      <td>18</td>\n",
       "      <td>13</td>\n",
       "      <td>NaN</td>\n",
       "      <td>0</td>\n",
       "      <td>7</td>\n",
       "      <td>Snow</td>\n",
       "      <td>306&lt;br /&gt;</td>\n",
       "    </tr>\n",
       "    <tr>\n",
       "      <th>363</th>\n",
       "      <td>2014-12-30</td>\n",
       "      <td>-15</td>\n",
       "      <td>-17</td>\n",
       "      <td>-18</td>\n",
       "      <td>-17</td>\n",
       "      <td>-18</td>\n",
       "      <td>-20</td>\n",
       "      <td>92</td>\n",
       "      <td>86</td>\n",
       "      <td>85</td>\n",
       "      <td>...</td>\n",
       "      <td>10</td>\n",
       "      <td>10</td>\n",
       "      <td>9</td>\n",
       "      <td>21</td>\n",
       "      <td>14</td>\n",
       "      <td>40</td>\n",
       "      <td>0</td>\n",
       "      <td>4</td>\n",
       "      <td>NaN</td>\n",
       "      <td>320&lt;br /&gt;</td>\n",
       "    </tr>\n",
       "    <tr>\n",
       "      <th>364</th>\n",
       "      <td>2014-12-31</td>\n",
       "      <td>-7</td>\n",
       "      <td>-14</td>\n",
       "      <td>-22</td>\n",
       "      <td>-8</td>\n",
       "      <td>-16</td>\n",
       "      <td>-24</td>\n",
       "      <td>93</td>\n",
       "      <td>87</td>\n",
       "      <td>78</td>\n",
       "      <td>...</td>\n",
       "      <td>10</td>\n",
       "      <td>6</td>\n",
       "      <td>2</td>\n",
       "      <td>32</td>\n",
       "      <td>16</td>\n",
       "      <td>35</td>\n",
       "      <td>0</td>\n",
       "      <td>7</td>\n",
       "      <td>Snow</td>\n",
       "      <td>221&lt;br /&gt;</td>\n",
       "    </tr>\n",
       "  </tbody>\n",
       "</table>\n",
       "<p>5 rows × 23 columns</p>\n",
       "</div>"
      ],
      "text/plain": [
       "           Date  Max TemperatureC  Mean TemperatureC  Min TemperatureC  \\\n",
       "360  2014-12-27                -7                 -9               -13   \n",
       "361  2014-12-28               -10                -12               -15   \n",
       "362  2014-12-29               -12                -14               -17   \n",
       "363  2014-12-30               -15                -17               -18   \n",
       "364  2014-12-31                -7                -14               -22   \n",
       "\n",
       "     Dew PointC  MeanDew PointC  Min DewpointC  Max Humidity  Mean Humidity  \\\n",
       "360          -8              -9            -14            93             91   \n",
       "361         -11             -13            -16            93             92   \n",
       "362         -13             -17            -19            92             87   \n",
       "363         -17             -18            -20            92             86   \n",
       "364          -8             -16            -24            93             87   \n",
       "\n",
       "     Min Humidity       ...        Max VisibilityKm  Mean VisibilityKm  \\\n",
       "360            80       ...                      10                 10   \n",
       "361            85       ...                      10                  7   \n",
       "362            78       ...                      10                 10   \n",
       "363            85       ...                      10                 10   \n",
       "364            78       ...                      10                  6   \n",
       "\n",
       "     Min VisibilitykM  Max Wind SpeedKm/h  Mean Wind SpeedKm/h  \\\n",
       "360                 8                  26                   19   \n",
       "361                 0                  18                    8   \n",
       "362                 9                  18                   13   \n",
       "363                 9                  21                   14   \n",
       "364                 2                  32                   16   \n",
       "\n",
       "     Max Gust SpeedKm/h  Precipitationmm  CloudCover    Events  WindDirDegrees  \n",
       "360                  43                0           7       NaN       224<br />  \n",
       "361                 NaN                0           7  Fog-Snow        36<br />  \n",
       "362                 NaN                0           7      Snow       306<br />  \n",
       "363                  40                0           4       NaN       320<br />  \n",
       "364                  35                0           7      Snow       221<br />  \n",
       "\n",
       "[5 rows x 23 columns]"
      ]
     },
     "execution_count": 11,
     "metadata": {},
     "output_type": "execute_result"
    }
   ],
   "source": [
    "citydf = moscow.rename(columns={'WindDirDegrees<br />' : 'WindDirDegrees'})\n",
    "citydf.tail()"
   ]
  },
  {
   "cell_type": "markdown",
   "metadata": {},
   "source": [
    "remove the  `< br />`  html line breaks from the values in the `'WindDirDegrees'` column. "
   ]
  },
  {
   "cell_type": "code",
   "execution_count": 13,
   "metadata": {
    "collapsed": false
   },
   "outputs": [
    {
     "data": {
      "text/plain": [
       "360    224\n",
       "361     36\n",
       "362    306\n",
       "363    320\n",
       "364    221\n",
       "Name: WindDirDegrees, dtype: object"
      ]
     },
     "execution_count": 13,
     "metadata": {},
     "output_type": "execute_result"
    }
   ],
   "source": [
    "citydf['WindDirDegrees'] = citydf['WindDirDegrees'].str.rstrip('<br />')\n",
    "citydf['WindDirDegrees'].tail()"
   ]
  },
  {
   "cell_type": "markdown",
   "metadata": {},
   "source": [
    "and change the values in the `'WindDirDegrees'` column to `float64`:"
   ]
  },
  {
   "cell_type": "code",
   "execution_count": 14,
   "metadata": {
    "collapsed": false
   },
   "outputs": [
    {
     "data": {
      "text/plain": [
       "Date                           object\n",
       "Max TemperatureC                int64\n",
       "Mean TemperatureC               int64\n",
       "Min TemperatureC                int64\n",
       "Dew PointC                      int64\n",
       "MeanDew PointC                  int64\n",
       "Min DewpointC                   int64\n",
       "Max Humidity                    int64\n",
       "Mean Humidity                   int64\n",
       "Min Humidity                    int64\n",
       "Max Sea Level PressurehPa       int64\n",
       "Mean Sea Level PressurehPa      int64\n",
       "Min Sea Level PressurehPa       int64\n",
       "Max VisibilityKm              float64\n",
       "Mean VisibilityKm             float64\n",
       "Min VisibilitykM              float64\n",
       "Max Wind SpeedKm/h              int64\n",
       "Mean Wind SpeedKm/h             int64\n",
       "Max Gust SpeedKm/h            float64\n",
       "Precipitationmm               float64\n",
       "CloudCover                    float64\n",
       "Events                         object\n",
       "WindDirDegrees                float64\n",
       "dtype: object"
      ]
     },
     "execution_count": 14,
     "metadata": {},
     "output_type": "execute_result"
    }
   ],
   "source": [
    "citydf['WindDirDegrees'] = citydf['WindDirDegrees'].astype('float64')\n",
    "citydf.dtypes"
   ]
  },
  {
   "cell_type": "markdown",
   "metadata": {},
   "source": [
    "We definitely need to change the values in the `'GMT'` column into values of the `datetime64`  date type.\n",
    "NOTE: The *MOSCOW* dataset has name `Date` instead of `GMT` in its first column."
   ]
  },
  {
   "cell_type": "code",
   "execution_count": 17,
   "metadata": {
    "collapsed": false
   },
   "outputs": [
    {
     "data": {
      "text/plain": [
       "Date                          datetime64[ns]\n",
       "Max TemperatureC                       int64\n",
       "Mean TemperatureC                      int64\n",
       "Min TemperatureC                       int64\n",
       "Dew PointC                             int64\n",
       "MeanDew PointC                         int64\n",
       "Min DewpointC                          int64\n",
       "Max Humidity                           int64\n",
       "Mean Humidity                          int64\n",
       "Min Humidity                           int64\n",
       "Max Sea Level PressurehPa              int64\n",
       "Mean Sea Level PressurehPa             int64\n",
       "Min Sea Level PressurehPa              int64\n",
       "Max VisibilityKm                     float64\n",
       "Mean VisibilityKm                    float64\n",
       "Min VisibilitykM                     float64\n",
       "Max Wind SpeedKm/h                     int64\n",
       "Mean Wind SpeedKm/h                    int64\n",
       "Max Gust SpeedKm/h                   float64\n",
       "Precipitationmm                      float64\n",
       "CloudCover                           float64\n",
       "Events                                object\n",
       "WindDirDegrees                       float64\n",
       "dtype: object"
      ]
     },
     "execution_count": 17,
     "metadata": {},
     "output_type": "execute_result"
    }
   ],
   "source": [
    "citydf['Date'] = to_datetime(citydf['Date'])\n",
    "citydf.dtypes"
   ]
  },
  {
   "cell_type": "markdown",
   "metadata": {},
   "source": [
    "We also need to change the index from the default to the `datetime64` values in the `'GMT'` column so that it is easier to pull out rows between particular dates and display more meaningful graphs: "
   ]
  },
  {
   "cell_type": "code",
   "execution_count": 18,
   "metadata": {
    "collapsed": false
   },
   "outputs": [],
   "source": [
    "citydf.index = citydf['Date']"
   ]
  },
  {
   "cell_type": "markdown",
   "metadata": {},
   "source": [
    "## Finding a summer break\n",
    "\n",
    "According to meteorologists, summer extends for the whole months of June, July, and August in the northern hemisphere and the whole months of December, January, and February in the southern hemisphere. So as I'm in the northern hemisphere I'm going to create a dataframe that holds just those months using the `datetime` index, like this:"
   ]
  },
  {
   "cell_type": "code",
   "execution_count": 19,
   "metadata": {
    "collapsed": true
   },
   "outputs": [],
   "source": [
    "summer = citydf.ix[datetime(2014,6,1) : datetime(2014,8,31)]"
   ]
  },
  {
   "cell_type": "markdown",
   "metadata": {},
   "source": [
    "I now look for the days with warm temperatures."
   ]
  },
  {
   "cell_type": "code",
   "execution_count": 20,
   "metadata": {
    "collapsed": false
   },
   "outputs": [
    {
     "data": {
      "text/html": [
       "<div>\n",
       "<table border=\"1\" class=\"dataframe\">\n",
       "  <thead>\n",
       "    <tr style=\"text-align: right;\">\n",
       "      <th></th>\n",
       "      <th>Date</th>\n",
       "      <th>Max TemperatureC</th>\n",
       "      <th>Mean TemperatureC</th>\n",
       "      <th>Min TemperatureC</th>\n",
       "      <th>Dew PointC</th>\n",
       "      <th>MeanDew PointC</th>\n",
       "      <th>Min DewpointC</th>\n",
       "      <th>Max Humidity</th>\n",
       "      <th>Mean Humidity</th>\n",
       "      <th>Min Humidity</th>\n",
       "      <th>...</th>\n",
       "      <th>Max VisibilityKm</th>\n",
       "      <th>Mean VisibilityKm</th>\n",
       "      <th>Min VisibilitykM</th>\n",
       "      <th>Max Wind SpeedKm/h</th>\n",
       "      <th>Mean Wind SpeedKm/h</th>\n",
       "      <th>Max Gust SpeedKm/h</th>\n",
       "      <th>Precipitationmm</th>\n",
       "      <th>CloudCover</th>\n",
       "      <th>Events</th>\n",
       "      <th>WindDirDegrees</th>\n",
       "    </tr>\n",
       "    <tr>\n",
       "      <th>Date</th>\n",
       "      <th></th>\n",
       "      <th></th>\n",
       "      <th></th>\n",
       "      <th></th>\n",
       "      <th></th>\n",
       "      <th></th>\n",
       "      <th></th>\n",
       "      <th></th>\n",
       "      <th></th>\n",
       "      <th></th>\n",
       "      <th></th>\n",
       "      <th></th>\n",
       "      <th></th>\n",
       "      <th></th>\n",
       "      <th></th>\n",
       "      <th></th>\n",
       "      <th></th>\n",
       "      <th></th>\n",
       "      <th></th>\n",
       "      <th></th>\n",
       "      <th></th>\n",
       "    </tr>\n",
       "  </thead>\n",
       "  <tbody>\n",
       "    <tr>\n",
       "      <th>2014-07-30</th>\n",
       "      <td>2014-07-30</td>\n",
       "      <td>32</td>\n",
       "      <td>26</td>\n",
       "      <td>19</td>\n",
       "      <td>16</td>\n",
       "      <td>13</td>\n",
       "      <td>11</td>\n",
       "      <td>69</td>\n",
       "      <td>48</td>\n",
       "      <td>29</td>\n",
       "      <td>...</td>\n",
       "      <td>10</td>\n",
       "      <td>9</td>\n",
       "      <td>5</td>\n",
       "      <td>29</td>\n",
       "      <td>11</td>\n",
       "      <td>40</td>\n",
       "      <td>0</td>\n",
       "      <td>6</td>\n",
       "      <td>Rain</td>\n",
       "      <td>236</td>\n",
       "    </tr>\n",
       "    <tr>\n",
       "      <th>2014-08-02</th>\n",
       "      <td>2014-08-02</td>\n",
       "      <td>33</td>\n",
       "      <td>26</td>\n",
       "      <td>18</td>\n",
       "      <td>20</td>\n",
       "      <td>16</td>\n",
       "      <td>13</td>\n",
       "      <td>94</td>\n",
       "      <td>65</td>\n",
       "      <td>31</td>\n",
       "      <td>...</td>\n",
       "      <td>10</td>\n",
       "      <td>10</td>\n",
       "      <td>9</td>\n",
       "      <td>47</td>\n",
       "      <td>5</td>\n",
       "      <td>68</td>\n",
       "      <td>0</td>\n",
       "      <td>6</td>\n",
       "      <td>Rain-Thunderstorm</td>\n",
       "      <td>35</td>\n",
       "    </tr>\n",
       "  </tbody>\n",
       "</table>\n",
       "<p>2 rows × 23 columns</p>\n",
       "</div>"
      ],
      "text/plain": [
       "                 Date  Max TemperatureC  Mean TemperatureC  Min TemperatureC  \\\n",
       "Date                                                                           \n",
       "2014-07-30 2014-07-30                32                 26                19   \n",
       "2014-08-02 2014-08-02                33                 26                18   \n",
       "\n",
       "            Dew PointC  MeanDew PointC  Min DewpointC  Max Humidity  \\\n",
       "Date                                                                  \n",
       "2014-07-30          16              13             11            69   \n",
       "2014-08-02          20              16             13            94   \n",
       "\n",
       "            Mean Humidity  Min Humidity       ...        Max VisibilityKm  \\\n",
       "Date                                          ...                           \n",
       "2014-07-30             48            29       ...                      10   \n",
       "2014-08-02             65            31       ...                      10   \n",
       "\n",
       "            Mean VisibilityKm  Min VisibilitykM  Max Wind SpeedKm/h  \\\n",
       "Date                                                                  \n",
       "2014-07-30                  9                 5                  29   \n",
       "2014-08-02                 10                 9                  47   \n",
       "\n",
       "            Mean Wind SpeedKm/h  Max Gust SpeedKm/h  Precipitationmm  \\\n",
       "Date                                                                   \n",
       "2014-07-30                   11                  40                0   \n",
       "2014-08-02                    5                  68                0   \n",
       "\n",
       "            CloudCover             Events  WindDirDegrees  \n",
       "Date                                                       \n",
       "2014-07-30           6               Rain             236  \n",
       "2014-08-02           6  Rain-Thunderstorm              35  \n",
       "\n",
       "[2 rows x 23 columns]"
      ]
     },
     "execution_count": 20,
     "metadata": {},
     "output_type": "execute_result"
    }
   ],
   "source": [
    "summer[summer['Mean TemperatureC'] >= 25]"
   ]
  },
  {
   "cell_type": "markdown",
   "metadata": {},
   "source": [
    "Moscow 2 days > 25 Celsius, while London did not show a single day in comparison. \n",
    "Next we tell Jupyter to display any graph created inside this notebook:"
   ]
  },
  {
   "cell_type": "code",
   "execution_count": 21,
   "metadata": {
    "collapsed": false
   },
   "outputs": [],
   "source": [
    "%matplotlib inline"
   ]
  },
  {
   "cell_type": "markdown",
   "metadata": {
    "collapsed": true
   },
   "source": [
    "Now let's plot the `'Mean TemperatureC'` for the summer:"
   ]
  },
  {
   "cell_type": "code",
   "execution_count": 23,
   "metadata": {
    "collapsed": false
   },
   "outputs": [
    {
     "data": {
      "text/plain": [
       "<matplotlib.axes._subplots.AxesSubplot at 0x9ccb630>"
      ]
     },
     "execution_count": 23,
     "metadata": {},
     "output_type": "execute_result"
    },
    {
     "data": {
      "image/png": "[encoded data removed]",
      "text/plain": [
       "<matplotlib.figure.Figure at 0x9cb31d0>"
      ]
     },
     "metadata": {},
     "output_type": "display_data"
    }
   ],
   "source": [
    "summer['Mean TemperatureC'].plot(grid=True, figsize=(15,5))"
   ]
  },
  {
   "cell_type": "markdown",
   "metadata": {
    "collapsed": false
   },
   "source": [
    "Well looking at the graph the second half of July looks good for mean temperatures over 20 degrees C so let's also put precipitation on the graph too:"
   ]
  },
  {
   "cell_type": "code",
   "execution_count": 32,
   "metadata": {
    "collapsed": false
   },
   "outputs": [
    {
     "data": {
      "text/plain": [
       "Precipitationmm    0\n",
       "dtype: float64"
      ]
     },
     "execution_count": 32,
     "metadata": {},
     "output_type": "execute_result"
    },
    {
     "data": {
      "image/png": "[encoded data removed]",
      "text/plain": [
       "<matplotlib.figure.Figure at 0x6af48d0>"
      ]
     },
     "metadata": {},
     "output_type": "display_data"
    }
   ],
   "source": [
    "summer[['Mean TemperatureC', 'Precipitationmm']].plot(grid=True, figsize=(15,5))\n",
    "summer[['Precipitationmm']].sum() # yes, it's really ZERO, no plot error\n"
   ]
  },
  {
   "cell_type": "markdown",
   "metadata": {
    "collapsed": false
   },
   "source": [
    "The second half of July is still looking good, with just a couple of peaks showing heavy rain. Let's have a closer look by just plotting mean temperature and precipitation for July.  "
   ]
  },
  {
   "cell_type": "code",
   "execution_count": 33,
   "metadata": {
    "collapsed": false
   },
   "outputs": [
    {
     "data": {
      "text/plain": [
       "<matplotlib.axes._subplots.AxesSubplot at 0x6a765c0>"
      ]
     },
     "execution_count": 33,
     "metadata": {},
     "output_type": "execute_result"
    },
    {
     "data": {
      "image/png": "[encoded data removed]",
      "text/plain": [
       "<matplotlib.figure.Figure at 0xa04cf98>"
      ]
     },
     "metadata": {},
     "output_type": "display_data"
    }
   ],
   "source": [
    "july = summer.ix[datetime(2014,7,1) : datetime(2014,7,31)]\n",
    "july[['Mean TemperatureC', 'Precipitationmm']].plot(grid=True, figsize=(15,5))"
   ]
  },
  {
   "cell_type": "markdown",
   "metadata": {},
   "source": [
    "Temperature rises towards end o the month."
   ]
  },
  {
   "cell_type": "markdown",
   "metadata": {
    "collapsed": true
   },
   "source": [
    "## Conclusions\n",
    "\n",
    "No weather conclusions, but learning a lot :)"
   ]
  },
  {
   "cell_type": "code",
   "execution_count": null,
   "metadata": {
    "collapsed": true
   },
   "outputs": [],
   "source": []
  }
 ],
 "metadata": {
  "kernelspec": {
   "display_name": "Python 3",
   "language": "python",
   "name": "python3"
  },
  "language_info": {
   "codemirror_mode": {
    "name": "ipython",
    "version": 3
   },
   "file_extension": ".py",
   "mimetype": "text/x-python",
   "name": "python",
   "nbconvert_exporter": "python",
   "pygments_lexer": "ipython3",
   "version": "3.4.3"
  }
 },
 "nbformat": 4,
 "nbformat_minor": 0
}
